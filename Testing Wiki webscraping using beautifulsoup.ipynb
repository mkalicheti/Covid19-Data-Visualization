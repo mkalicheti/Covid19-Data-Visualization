{
 "cells": [
  {
   "cell_type": "code",
   "execution_count": 18,
   "id": "133db317",
   "metadata": {},
   "outputs": [
    {
     "name": "stdout",
     "output_type": "stream",
     "text": [
      "Requirement already satisfied: beautifulsoup4 in c:\\users\\manvi\\anaconda3\\lib\\site-packages (4.10.0)\n",
      "Note: you may need to restart the kernel to use updated packages.\n",
      "Requirement already satisfied: soupsieve>1.2 in c:\\users\\manvi\\anaconda3\\lib\\site-packages (from beautifulsoup4) (2.2.1)\n"
     ]
    }
   ],
   "source": [
    "pip install beautifulsoup4"
   ]
  },
  {
   "cell_type": "code",
   "execution_count": 19,
   "id": "bbdb0020",
   "metadata": {},
   "outputs": [],
   "source": [
    "import requests\n",
    "from bs4 import BeautifulSoup "
   ]
  },
  {
   "cell_type": "code",
   "execution_count": 20,
   "id": "db15372a",
   "metadata": {},
   "outputs": [
    {
     "name": "stdout",
     "output_type": "stream",
     "text": [
      "200\n"
     ]
    }
   ],
   "source": [
    "wikiurl=\"https://en.wikipedia.org/wiki/COVID-19_lockdowns\"\n",
    "table_class=\"wikitable sortable mw-collapsible jquery-tablesorter mw-made-collapsible\"\n",
    "response=requests.get(wikiurl)\n",
    "print(response.status_code)"
   ]
  },
  {
   "cell_type": "code",
   "execution_count": 21,
   "id": "3a7592e3",
   "metadata": {},
   "outputs": [],
   "source": [
    "soup = BeautifulSoup(response.text, 'html.parser')\n",
    "indiatable=soup.find('table',{'class':\"wikitable\"})"
   ]
  },
  {
   "cell_type": "code",
   "execution_count": 22,
   "id": "3639a0c6",
   "metadata": {},
   "outputs": [
    {
     "name": "stdout",
     "output_type": "stream",
     "text": [
      "  vteCOVID-19 pandemic lockdowns                                        \\\n",
      "             Country / territory                 Place  First lockdown   \n",
      "             Country / territory                 Place      Start date   \n",
      "0                        Albania               Albania  2020-03-13[82]   \n",
      "1                        Algeria               Algiers  2020-03-23[84]   \n",
      "2                        Algeria                 Blida  2020-03-23[84]   \n",
      "3                      Argentina  Greater Buenos Aires  2020-03-19[86]   \n",
      "4                      Argentina   Rest of the country  2020-03-19[86]   \n",
      "\n",
      "                                                                           \\\n",
      "                                Second lockdown                             \n",
      "         End date Length (days)      Start date    End date Length (days)   \n",
      "0  2020-06-01[83]            80             NaN         NaN           NaN   \n",
      "1  2020-05-14[85]            52             NaN         NaN           NaN   \n",
      "2  2020-05-14[85]            52             NaN         NaN           NaN   \n",
      "3  2020-11-08[87]           234  2021-05-22[88]  2021-05-30             9   \n",
      "4  2020-05-10[90]            52  2021-05-22[88]  2021-05-30             9   \n",
      "\n",
      "                               ...                                           \\\n",
      "   Third lockdown              ... Sixth lockdown Seventh lockdown            \n",
      "       Start date    End date  ...  Length (days)       Start date End date   \n",
      "0             NaN         NaN  ...            NaN              NaN      NaN   \n",
      "1             NaN         NaN  ...            NaN              NaN      NaN   \n",
      "2             NaN         NaN  ...            NaN              NaN      NaN   \n",
      "3  2021-06-05[89]  2021-06-06  ...            NaN              NaN      NaN   \n",
      "4  2021-06-05[89]  2021-06-06  ...            NaN              NaN      NaN   \n",
      "\n",
      "                                                                            \\\n",
      "                Eighth lockdown                        Total length (days)   \n",
      "  Length (days)      Start date End date Length (days) Total length (days)   \n",
      "0           NaN             NaN      NaN           NaN                  80   \n",
      "1           NaN             NaN      NaN           NaN                  52   \n",
      "2           NaN             NaN      NaN           NaN                  52   \n",
      "3           NaN             NaN      NaN           NaN                 245   \n",
      "4           NaN             NaN      NaN           NaN                  63   \n",
      "\n",
      "                                          \n",
      "               Level Unnamed: 28_level_1  \n",
      "               Level Unnamed: 28_level_2  \n",
      "0           National                 NaN  \n",
      "1               City                 NaN  \n",
      "2               City                 NaN  \n",
      "3  Metropolitan area                 NaN  \n",
      "4           National                 NaN  \n",
      "\n",
      "[5 rows x 29 columns]\n"
     ]
    },
    {
     "data": {
      "text/plain": [
       "7018"
      ]
     },
     "execution_count": 22,
     "metadata": {},
     "output_type": "execute_result"
    }
   ],
   "source": [
    "dfx=pd.read_html(str(indiatable))\n",
    "# convert list to dataframe\n",
    "dfx=pd.DataFrame(dfx[0])\n",
    "print(dfx.head())\n",
    "dfx.size"
   ]
  },
  {
   "cell_type": "code",
   "execution_count": null,
   "id": "b7ab951d",
   "metadata": {},
   "outputs": [],
   "source": []
  }
 ],
 "metadata": {
  "kernelspec": {
   "display_name": "Python 3 (ipykernel)",
   "language": "python",
   "name": "python3"
  },
  "language_info": {
   "codemirror_mode": {
    "name": "ipython",
    "version": 3
   },
   "file_extension": ".py",
   "mimetype": "text/x-python",
   "name": "python",
   "nbconvert_exporter": "python",
   "pygments_lexer": "ipython3",
   "version": "3.9.7"
  }
 },
 "nbformat": 4,
 "nbformat_minor": 5
}
